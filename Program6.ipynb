{
 "cells": [
  {
   "cell_type": "code",
   "execution_count": 1,
   "metadata": {},
   "outputs": [
    {
     "name": "stdout",
     "output_type": "stream",
     "text": [
      "Total Instances of Dataset:  13\n"
     ]
    }
   ],
   "source": [
    "import pandas as pd\n",
    "msg = pd.read_csv('data6.csv', names=['message', 'label'])\n",
    "print(\"Total Instances of Dataset: \", msg.shape[0])\n",
    "msg['labelnum'] = msg.label.map({'pos': 1, 'neg': 0})"
   ]
  },
  {
   "cell_type": "code",
   "execution_count": 2,
   "metadata": {},
   "outputs": [],
   "source": [
    "X = msg.message\n",
    "y = msg.labelnum\n",
    "from sklearn.feature_extraction.text import CountVectorizer\n",
    "from sklearn.model_selection import train_test_split\n",
    "X_train, X_test, y_train, y_test = train_test_split(X, y)\n",
    "count_v = CountVectorizer()\n",
    "X_train_dm = count_v.fit_transform(X_train)\n",
    "X_test_dm = count_v.transform(X_test)"
   ]
  },
  {
   "cell_type": "code",
   "execution_count": null,
   "metadata": {},
   "outputs": [],
   "source": []
  },
  {
   "cell_type": "code",
   "execution_count": 3,
   "metadata": {},
   "outputs": [],
   "source": [
    "df = pd.DataFrame(X_train_dm.toarray(), columns=count_v.get_feature_names())"
   ]
  },
  {
   "cell_type": "code",
   "execution_count": 4,
   "metadata": {},
   "outputs": [
    {
     "name": "stdout",
     "output_type": "stream",
     "text": [
      "We will have good fun tomorrow -> neg\n",
      "I do not like the taste of this juice -> pos\n",
      "My boss is horrible -> neg\n",
      "I went to my enemy's house today -> neg\n"
     ]
    }
   ],
   "source": [
    "from sklearn.naive_bayes import MultinomialNB\n",
    "clf = MultinomialNB()\n",
    "clf.fit(X_train_dm, y_train)\n",
    "pred = clf.predict(X_test_dm)\n",
    "for doc, p in zip(X_train, pred):\n",
    "    p = 'pos' if p == 1 else 'neg'\n",
    "    print(f\"{doc} -> {p}\")"
   ]
  },
  {
   "cell_type": "code",
   "execution_count": 5,
   "metadata": {},
   "outputs": [
    {
     "name": "stdout",
     "output_type": "stream",
     "text": [
      "Accuracy Metrics: \n",
      "\n",
      "Accuracy:  0.5\n",
      "Recall:  0.3333333333333333\n",
      "Precision:  1.0\n",
      "Confusion Matrix: \n",
      " [[1 0]\n",
      " [2 1]]\n"
     ]
    }
   ],
   "source": [
    "from sklearn.metrics import (accuracy_score, confusion_matrix, precision_score, recall_score)\n",
    "print('Accuracy Metrics: \\n')\n",
    "print('Accuracy: ', accuracy_score(y_test, pred))\n",
    "print('Recall: ', recall_score(y_test, pred))\n",
    "print('Precision: ', precision_score(y_test, pred))\n",
    "print('Confusion Matrix: \\n', confusion_matrix(y_test, pred))"
   ]
  },
  {
   "cell_type": "code",
   "execution_count": null,
   "metadata": {},
   "outputs": [],
   "source": []
  }
 ],
 "metadata": {
  "kernelspec": {
   "display_name": "Python 3",
   "language": "python",
   "name": "python3"
  },
  "language_info": {
   "codemirror_mode": {
    "name": "ipython",
    "version": 3
   },
   "file_extension": ".py",
   "mimetype": "text/x-python",
   "name": "python",
   "nbconvert_exporter": "python",
   "pygments_lexer": "ipython3",
   "version": "3.8.5"
  }
 },
 "nbformat": 4,
 "nbformat_minor": 4
}
