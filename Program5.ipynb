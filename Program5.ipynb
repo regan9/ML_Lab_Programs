{
 "cells": [
  {
   "cell_type": "code",
   "execution_count": 1,
   "metadata": {},
   "outputs": [],
   "source": [
    "def probAttr(data, attr, val):\n",
    "    Total = data.shape[0]\n",
    "    cnt = len(data[data[attr] == val])\n",
    "    return cnt, cnt / Total"
   ]
  },
  {
   "cell_type": "code",
   "execution_count": 2,
   "metadata": {},
   "outputs": [],
   "source": [
    "def train(data, Attr, conceptVals, concept):\n",
    "    conceptProbs = {}\n",
    "    countConcept = {}\n",
    "    for cVal in conceptVals:\n",
    "        countConcept[cVal], conceptProbs[cVal] = probAttr(data, concept, cVal)\n",
    "    AttrConcept = {}\n",
    "    probability_list = {}\n",
    "    for att in Attr:\n",
    "        probability_list[att] = {}\n",
    "        AttrConcept[att] = {}\n",
    "        for val in Attr[att]:\n",
    "            AttrConcept[att][val] = {}\n",
    "            a, probability_list[att][val] = probAttr(data, att, val)\n",
    "            for cVal in conceptVals:\n",
    "                dataTemp = data[data[att] == val]\n",
    "                AttrConcept[att][val][cVal] = len(dataTemp[dataTemp[concept] == cVal]) / countConcept[cVal]\n",
    "    print(f\"P(A) : {conceptProbs}\\n\")\n",
    "    print(f\"P(X/A) : {AttrConcept}\\n\")\n",
    "    print(f\"P(X) : {probability_list}\\n\")\n",
    "    return conceptProbs, AttrConcept, probability_list"
   ]
  },
  {
   "cell_type": "code",
   "execution_count": 3,
   "metadata": {},
   "outputs": [],
   "source": [
    "def test(examples, Attr, concept_list, conceptProbs, AttrConcept, probability_list):\n",
    "    misclassification_count = 0\n",
    "    Total = len(examples)\n",
    "    for ex in examples:\n",
    "        px = {}\n",
    "        for a in Attr:\n",
    "            for x in ex:\n",
    "                for c in concept_list:\n",
    "                    if x in AttrConcept[a]:\n",
    "                        if c not in px:\n",
    "                            px[c] = conceptProbs[c] * AttrConcept[a][x][c] / probability_list[a][x]\n",
    "                        else:\n",
    "                            px[c] = px[c] * AttrConcept[a][x][c] / probability_list[a][x]\n",
    "        print(px)\n",
    "        classification = max(px, key=px.get)\n",
    "        print(f\"Classification : {classification} Expected : {ex[-1]}\")\n",
    "        if (classification != ex[-1]):\n",
    "            misclassification_count += 1\n",
    "    misclassification_rate = misclassification_count * 100 / Total\n",
    "    accuracy = 100 - misclassification_rate\n",
    "    print(f\"Misclassification Count={misclassification_count}\")\n",
    "    print(f\"Misclassification Rate={misclassification_rate}%\")\n",
    "    print(f\"Accuracy={accuracy}%\")"
   ]
  },
  {
   "cell_type": "code",
   "execution_count": 4,
   "metadata": {},
   "outputs": [
    {
     "name": "stdout",
     "output_type": "stream",
     "text": [
      "Outlook: {'sunny', 'overcast', 'rain'}\n",
      "Temperature: {'cool', 'mild', 'hot'}\n",
      "Humidity: {'high', 'normal'}\n",
      "Wind: {'strong', 'weak'}\n",
      "P(A) : {'no ': 0.14285714285714285, 'yes ': 0.6428571428571429, 'no': 0.21428571428571427}\n",
      "\n",
      "P(X/A) : {'Outlook': {'sunny': {'no ': 0.5, 'yes ': 0.2222222222222222, 'no': 0.6666666666666666}, 'overcast': {'no ': 0.0, 'yes ': 0.4444444444444444, 'no': 0.0}, 'rain': {'no ': 0.5, 'yes ': 0.3333333333333333, 'no': 0.3333333333333333}}, 'Temperature': {'cool': {'no ': 0.5, 'yes ': 0.3333333333333333, 'no': 0.0}, 'mild': {'no ': 0.5, 'yes ': 0.4444444444444444, 'no': 0.3333333333333333}, 'hot': {'no ': 0.0, 'yes ': 0.2222222222222222, 'no': 0.6666666666666666}}, 'Humidity': {'high': {'no ': 0.5, 'yes ': 0.3333333333333333, 'no': 1.0}, 'normal': {'no ': 0.5, 'yes ': 0.6666666666666666, 'no': 0.0}}, 'Wind': {'strong': {'no ': 0.5, 'yes ': 0.3333333333333333, 'no': 0.6666666666666666}, 'weak': {'no ': 0.5, 'yes ': 0.6666666666666666, 'no': 0.3333333333333333}}}\n",
      "\n",
      "P(X) : {'Outlook': {'sunny': 0.35714285714285715, 'overcast': 0.2857142857142857, 'rain': 0.35714285714285715}, 'Temperature': {'cool': 0.2857142857142857, 'mild': 0.42857142857142855, 'hot': 0.2857142857142857}, 'Humidity': {'high': 0.5, 'normal': 0.5}, 'Wind': {'strong': 0.42857142857142855, 'weak': 0.5714285714285714}}\n",
      "\n",
      "{'no ': 0.0, 'yes ': 0.2419753086419753, 'no': 1.0888888888888886}\n",
      "Classification : no Expected : no\n",
      "{'no ': 0.0, 'yes ': 0.16131687242798354, 'no': 2.903703703703703}\n",
      "Classification : no Expected : no\n",
      "{'no ': 0.0, 'yes ': 0.6049382716049383, 'no': 0.0}\n",
      "Classification : yes  Expected : yes \n",
      "{'no ': 0.2041666666666667, 'yes ': 0.4839506172839506, 'no': 0.18148148148148147}\n",
      "Classification : yes  Expected : yes \n",
      "{'no ': 0.30625, 'yes ': 1.0888888888888888, 'no': 0.0}\n",
      "Classification : yes  Expected : yes \n",
      "{'no ': 0.4083333333333333, 'yes ': 0.7259259259259259, 'no': 0.0}\n",
      "Classification : yes  Expected : no \n",
      "{'no ': 0.0, 'yes ': 1.2098765432098766, 'no': 0.0}\n",
      "Classification : yes  Expected : yes \n",
      "{'no ': 0.2041666666666667, 'yes ': 0.3226337448559671, 'no': 0.36296296296296293}\n",
      "Classification : no Expected : no \n",
      "{'no ': 0.30625, 'yes ': 0.7259259259259256, 'no': 0.0}\n",
      "Classification : yes  Expected : yes \n",
      "{'no ': 0.2041666666666667, 'yes ': 0.9679012345679012, 'no': 0.0}\n",
      "Classification : yes  Expected : yes \n",
      "{'no ': 0.27222222222222225, 'yes ': 0.43017832647462273, 'no': 0.0}\n",
      "Classification : yes  Expected : yes \n",
      "{'no ': 0.0, 'yes ': 0.5377229080932785, 'no': 0.0}\n",
      "Classification : yes  Expected : yes \n",
      "{'no ': 0.0, 'yes ': 1.2098765432098766, 'no': 0.0}\n",
      "Classification : yes  Expected : yes \n",
      "{'no ': 0.27222222222222225, 'yes ': 0.3226337448559671, 'no': 0.48395061728395056}\n",
      "Classification : no Expected : no\n",
      "Misclassification Count=2\n",
      "Misclassification Rate=14.285714285714286%\n",
      "Accuracy=85.71428571428571%\n"
     ]
    }
   ],
   "source": [
    "import pandas as pd\n",
    "df = pd.read_csv('PlayTennis.csv')\n",
    "concept = str(list(df)[-1])\n",
    "concept_list = set(df[concept])\n",
    "Attr = {}\n",
    "for a in df.columns[:-1]:\n",
    "    Attr[a] = set(df[a])\n",
    "    print(f\"{a}: {Attr[a]}\")\n",
    "conceptProbs, AttrConcept, probability_list = train(df, Attr, concept_list, concept)\n",
    "examples = pd.read_csv('PlayTennis.csv')\n",
    "test(examples.values, Attr, concept_list, conceptProbs, AttrConcept, probability_list)"
   ]
  },
  {
   "cell_type": "code",
   "execution_count": null,
   "metadata": {},
   "outputs": [],
   "source": []
  }
 ],
 "metadata": {
  "kernelspec": {
   "display_name": "Python 3",
   "language": "python",
   "name": "python3"
  },
  "language_info": {
   "codemirror_mode": {
    "name": "ipython",
    "version": 3
   },
   "file_extension": ".py",
   "mimetype": "text/x-python",
   "name": "python",
   "nbconvert_exporter": "python",
   "pygments_lexer": "ipython3",
   "version": "3.8.5"
  }
 },
 "nbformat": 4,
 "nbformat_minor": 4
}
